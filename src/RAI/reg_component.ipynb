{
 "cells": [
  {
   "cell_type": "code",
   "execution_count": 4,
   "metadata": {},
   "outputs": [
    {
     "name": "stderr",
     "output_type": "stream",
     "text": [
      "Found the config file in: C:\\Users\\PATRICIA INYANG\\MLOPS\\Azure-MLOps-for-Insurance\\src\\config.json\n",
      "\u001b[32mUploading RAI (6.35 MBs): 100%|##########| 6352066/6352066 [00:01<00:00, 3534338.28it/s]\n",
      "\u001b[39m\n",
      "\n"
     ]
    }
   ],
   "source": [
    "from azure.identity import DefaultAzureCredential\n",
    "from azure.ai.ml import MLClient\n",
    "from azure.ai.ml import load_component\n",
    "\n",
    "# Connect to the workspace\n",
    "credential = DefaultAzureCredential()\n",
    "credential.get_token(\"https://management.azure.com/.default\")\n",
    "ml_client = MLClient.from_config(credential=credential)\n",
    "\n",
    "\n",
    "Construct_rai_dashboard = load_component(source=\"rai.yml\")\n",
    "registered_rai_pipeline = ml_client.components.create_or_update(Construct_rai_dashboard)"
   ]
  },
  {
   "cell_type": "code",
   "execution_count": 8,
   "metadata": {},
   "outputs": [
    {
     "data": {
      "text/plain": [
       "'2023-12-23-08-24-47-1247880'"
      ]
     },
     "execution_count": 8,
     "metadata": {},
     "output_type": "execute_result"
    }
   ],
   "source": [
    "\n",
    "latest_component_version = max([(m.version) for m in ml_client.components.list(name=\"setup_model_rai_dashboard\")])\n",
    "registered_rai_pipeline = ml_client.components.get(name=\"setup_model_rai_dashboard\", version=latest_component_version)\n"
   ]
  },
  {
   "cell_type": "code",
   "execution_count": 9,
   "metadata": {},
   "outputs": [
    {
     "data": {
      "text/plain": [
       "PipelineComponentBatchDeployment({'type': None, 'name': 'rai-pipeline', 'description': None, 'tags': {'Monitoring': 'None', 'PipelineDeployment.ComponentId': '/subscriptions/343f6908-67c0-46cf-9392-1d92a34ec2b2/resourceGroups/220356622-rg/providers/Microsoft.MachineLearningServices/workspaces/MLOPS_project/components/setup_model_rai_dashboard/versions/2023-12-23-08-24-47-1247880'}, 'properties': {}, 'print_as_yaml': True, 'id': None, 'Resource__source_path': None, 'base_path': 'c:\\\\Users\\\\PATRICIA INYANG\\\\MLOPS\\\\Azure-MLOps-for-Insurance\\\\src\\\\RAI', 'creation_context': None, 'serialize': <msrest.serialization.Serializer object at 0x00000252888DFD90>, 'component': '/subscriptions/343f6908-67c0-46cf-9392-1d92a34ec2b2/resourceGroups/220356622-rg/providers/Microsoft.MachineLearningServices/workspaces/MLOPS_project/components/setup_model_rai_dashboard/versions/2023-12-23-08-24-47-1247880', 'endpoint_name': 'rai-deployment-endpoint', 'settings': None, 'job_definition': None})"
      ]
     },
     "execution_count": 9,
     "metadata": {},
     "output_type": "execute_result"
    }
   ],
   "source": [
    "from azure.ai.ml.entities import PipelineComponentBatchDeployment\n",
    "deployment = PipelineComponentBatchDeployment(\n",
    "    name=\"rai-pipeline\",\n",
    "    description=\"Deploying pipeline for Setting up RAI dashboard for trained model\",\n",
    "    endpoint_name=\"rai-deployment-endpoint\",\n",
    "    component=registered_rai_pipeline,\n",
    "    settings={\"continue_on_step_failure\": False, \"default_compute\": \"VM1\"},\n",
    ")\n",
    "ml_client.batch_deployments.begin_create_or_update(deployment).result()"
   ]
  }
 ],
 "metadata": {
  "kernelspec": {
   "display_name": "project_environment",
   "language": "python",
   "name": "python3"
  },
  "language_info": {
   "codemirror_mode": {
    "name": "ipython",
    "version": 3
   },
   "file_extension": ".py",
   "mimetype": "text/x-python",
   "name": "python",
   "nbconvert_exporter": "python",
   "pygments_lexer": "ipython3",
   "version": "3.8.18"
  }
 },
 "nbformat": 4,
 "nbformat_minor": 2
}
