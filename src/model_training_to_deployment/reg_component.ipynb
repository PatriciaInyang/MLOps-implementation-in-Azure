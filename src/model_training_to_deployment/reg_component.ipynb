{
 "cells": [
  {
   "cell_type": "code",
   "execution_count": null,
   "metadata": {},
   "outputs": [],
   "source": [
    "from azure.identity import DefaultAzureCredential\n",
    "from azure.ai.ml import MLClient\n",
    "from azure.ai.ml import load_component\n",
    "from azure.ai.ml.entities import PipelineComponentBatchDeployment\n",
    "\n",
    "# Connect to the workspace\n",
    "credential = DefaultAzureCredential()\n",
    "credential.get_token(\"https://management.azure.com/.default\")\n",
    "\n",
    "ml_client = MLClient.from_config(credential=credential)\n",
    "\n",
    "insurance_model_training_reg = load_component(source=\"Train_reg_pipeline.yml\")\n",
    "registered_training_pipeline = ml_client.components.create_or_update(insurance_model_training_reg)\n",
    "\n",
    "latest_component_version = max([(m.version) for m in ml_client.components.list(name=\"traininig_registeration_pipeline\")])\n",
    "registered_training_pipeline = ml_client.components.get(name=\"traininig_registeration_pipeline\", version=latest_component_version)\n",
    "\n",
    "\n",
    "deployment = PipelineComponentBatchDeployment(\n",
    "    name=\"training-pipeline\",\n",
    "    description=\"Deploying pipeline for model training and registration\",\n",
    "    endpoint_name=\"training-deployment-endpoint\",\n",
    "    component=registered_training_pipeline,\n",
    "    settings={\"continue_on_step_failure\": False, \"default_compute\": \"VM1\"},\n",
    ")\n",
    "ml_client.batch_deployments.begin_create_or_update(deployment).result()"
   ]
  },
  {
   "cell_type": "code",
   "execution_count": null,
   "metadata": {},
   "outputs": [],
   "source": []
  }
 ],
 "metadata": {
  "kernelspec": {
   "display_name": "project_environment",
   "language": "python",
   "name": "python3"
  },
  "language_info": {
   "codemirror_mode": {
    "name": "ipython",
    "version": 3
   },
   "file_extension": ".py",
   "mimetype": "text/x-python",
   "name": "python",
   "nbconvert_exporter": "python",
   "pygments_lexer": "ipython3",
   "version": "3.8.18"
  }
 },
 "nbformat": 4,
 "nbformat_minor": 2
}
